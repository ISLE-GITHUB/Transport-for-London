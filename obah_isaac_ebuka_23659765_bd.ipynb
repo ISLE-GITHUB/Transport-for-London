{
  "nbformat": 4,
  "nbformat_minor": 0,
  "metadata": {
    "colab": {
      "provenance": []
    },
    "kernelspec": {
      "name": "python3",
      "display_name": "Python 3"
    },
    "language_info": {
      "name": "python"
    }
  },
  "cells": [
    {
      "cell_type": "code",
      "source": [
        "!pip install pyspark"
      ],
      "metadata": {
        "colab": {
          "base_uri": "https://localhost:8080/"
        },
        "id": "2opLnKW0NQf1",
        "outputId": "b215dfc6-be0b-4220-a785-0741a340c4ce"
      },
      "execution_count": null,
      "outputs": [
        {
          "output_type": "stream",
          "name": "stdout",
          "text": [
            "Collecting pyspark\n",
            "  Downloading pyspark-3.5.1.tar.gz (317.0 MB)\n",
            "\u001b[2K     \u001b[90m━━━━━━━━━━━━━━━━━━━━━━━━━━━━━━━━━━━━━━━━\u001b[0m \u001b[32m317.0/317.0 MB\u001b[0m \u001b[31m2.1 MB/s\u001b[0m eta \u001b[36m0:00:00\u001b[0m\n",
            "\u001b[?25h  Preparing metadata (setup.py) ... \u001b[?25l\u001b[?25hdone\n",
            "Requirement already satisfied: py4j==0.10.9.7 in /usr/local/lib/python3.10/dist-packages (from pyspark) (0.10.9.7)\n",
            "Building wheels for collected packages: pyspark\n",
            "  Building wheel for pyspark (setup.py) ... \u001b[?25l\u001b[?25hdone\n",
            "  Created wheel for pyspark: filename=pyspark-3.5.1-py2.py3-none-any.whl size=317488491 sha256=f2c91e4992fe4d01ec27282219a4a771de317a59b4c19cc8e94d6fe2500be5fb\n",
            "  Stored in directory: /root/.cache/pip/wheels/80/1d/60/2c256ed38dddce2fdd93be545214a63e02fbd8d74fb0b7f3a6\n",
            "Successfully built pyspark\n",
            "Installing collected packages: pyspark\n",
            "Successfully installed pyspark-3.5.1\n"
          ]
        }
      ]
    },
    {
      "cell_type": "code",
      "execution_count": null,
      "metadata": {
        "id": "goA2-I9pM6ti"
      },
      "outputs": [],
      "source": [
        "from pyspark.sql import *\n",
        "from pyspark.sql.functions import *\n",
        "from pyspark.sql.types import IntegerType\n",
        "import pandas as pd\n",
        "import numpy as np\n",
        "import matplotlib.pyplot as plt\n",
        "import seaborn as sns\n",
        "import scipy.stats as st\n",
        "%matplotlib inline"
      ]
    },
    {
      "cell_type": "code",
      "source": [
        "spark = SparkSession.builder.appName(\"Transport for London\").getOrCreate()"
      ],
      "metadata": {
        "id": "_6G7MJwfNbyv"
      },
      "execution_count": null,
      "outputs": []
    },
    {
      "cell_type": "code",
      "source": [
        "spark"
      ],
      "metadata": {
        "colab": {
          "base_uri": "https://localhost:8080/",
          "height": 222
        },
        "id": "1gZIMAdaNt33",
        "outputId": "a3307539-ae61-4fef-9c9d-f40062863321"
      },
      "execution_count": null,
      "outputs": [
        {
          "output_type": "execute_result",
          "data": {
            "text/plain": [
              "<pyspark.sql.session.SparkSession at 0x781ca9f40880>"
            ],
            "text/html": [
              "\n",
              "            <div>\n",
              "                <p><b>SparkSession - in-memory</b></p>\n",
              "                \n",
              "        <div>\n",
              "            <p><b>SparkContext</b></p>\n",
              "\n",
              "            <p><a href=\"http://2ee456b82e78:4040\">Spark UI</a></p>\n",
              "\n",
              "            <dl>\n",
              "              <dt>Version</dt>\n",
              "                <dd><code>v3.5.1</code></dd>\n",
              "              <dt>Master</dt>\n",
              "                <dd><code>local[*]</code></dd>\n",
              "              <dt>AppName</dt>\n",
              "                <dd><code>Transport for London</code></dd>\n",
              "            </dl>\n",
              "        </div>\n",
              "        \n",
              "            </div>\n",
              "        "
            ]
          },
          "metadata": {},
          "execution_count": 4
        }
      ]
    },
    {
      "cell_type": "code",
      "source": [
        "!wget https://cycling.data.tfl.gov.uk/usage-stats/cyclehireusagestats-2014.zip\n",
        "!unzip cyclehireusagestats-2014.zip"
      ],
      "metadata": {
        "colab": {
          "base_uri": "https://localhost:8080/"
        },
        "id": "oTzDHBSIN44W",
        "outputId": "b6134e77-cc80-4907-c849-38fac5de6b6b"
      },
      "execution_count": null,
      "outputs": [
        {
          "output_type": "stream",
          "name": "stdout",
          "text": [
            "--2024-05-20 10:25:10--  https://cycling.data.tfl.gov.uk/usage-stats/cyclehireusagestats-2014.zip\n",
            "Resolving cycling.data.tfl.gov.uk (cycling.data.tfl.gov.uk)... 104.16.98.104, 104.16.97.104\n",
            "Connecting to cycling.data.tfl.gov.uk (cycling.data.tfl.gov.uk)|104.16.98.104|:443... connected.\n",
            "HTTP request sent, awaiting response... 200 OK\n",
            "Length: 225215129 (215M) [application/zip]\n",
            "Saving to: ‘cyclehireusagestats-2014.zip’\n",
            "\n",
            "cyclehireusagestats 100%[===================>] 214.78M   151MB/s    in 1.4s    \n",
            "\n",
            "2024-05-20 10:25:12 (151 MB/s) - ‘cyclehireusagestats-2014.zip’ saved [225215129/225215129]\n",
            "\n",
            "Archive:  cyclehireusagestats-2014.zip\n",
            "  inflating: 1. Journey Data Extract 05Jan14-02Feb14.csv  \n",
            "  inflating: 10a. Journey Data Extract 14Sep14-27Sep14.csv  \n",
            "  inflating: 10b. Journey Data Extract 28Sep14-11Oct14.csv  \n",
            "  inflating: 11a. Journey Data Extract 12Oct14-08Nov14.csv  \n",
            "  inflating: 11b. Journey Data Extract 12Oct14-08Nov14.csv  \n",
            "  inflating: 12a. Journey Data Extract 09Nov14-06Dec14.csv  \n",
            "  inflating: 12b. Journey Data Extract 09Nov14-06Dec14.csv  \n",
            "  inflating: 13a. Journey Data Extract 07Dec14-21Dec14.csv  \n",
            "  inflating: 13b. Journey Data Extract 22Dec14-03Jan15.csv  \n",
            "  inflating: 14. Journey Data Extract 08Dec13-04Jan14.csv  \n",
            "  inflating: 2. Journey Data Extract 03Feb14-01Mar14.csv  \n",
            "  inflating: 3. Journey Data Extract 02Mar14-31Mar14.csv  \n",
            "  inflating: 4. Journey Data Extract 01Apr14-26Apr14.csv  \n",
            "  inflating: 5. Journey Data Extract 27Apr14-24May14.csv  \n",
            "  inflating: 6. Journey Data Extract 25May14-21Jun14.csv  \n",
            "  inflating: 7. Journey Data Extract 22Jun14-19Jul14.csv  \n",
            "  inflating: 8a Journey Data Extract 20Jul14-31Jul14.csv  \n",
            "  inflating: 8b Journey Data Extract 01Aug14-16Aug14.csv  \n",
            "  inflating: 9a Journey Data Extract 17Aug14-31Aug14.csv  \n",
            "  inflating: 9b Journey Data Extract 01Sep14-13Sep14.csv  \n"
          ]
        }
      ]
    },
    {
      "cell_type": "code",
      "source": [
        "files = \"*.csv\""
      ],
      "metadata": {
        "id": "6xcysYy1OHlN"
      },
      "execution_count": null,
      "outputs": []
    },
    {
      "cell_type": "code",
      "source": [
        "tfl = spark.read.csv(files, header=True, inferSchema=True)"
      ],
      "metadata": {
        "id": "50rQVUCVOUkm"
      },
      "execution_count": null,
      "outputs": []
    },
    {
      "cell_type": "code",
      "source": [
        "tfl.show(5)"
      ],
      "metadata": {
        "colab": {
          "base_uri": "https://localhost:8080/"
        },
        "id": "DS05sPPDH_Fm",
        "outputId": "f7336cf6-20d2-44b6-a62b-fbc2c160015b"
      },
      "execution_count": null,
      "outputs": [
        {
          "output_type": "stream",
          "name": "stdout",
          "text": [
            "+---------+--------+-------+----------------+-------------+--------------------+----------------+---------------+--------------------+\n",
            "|Rental Id|Duration|Bike Id|        End Date|EndStation Id|     EndStation Name|      Start Date|StartStation Id|   StartStation Name|\n",
            "+---------+--------+-------+----------------+-------------+--------------------+----------------+---------------+--------------------+\n",
            "| 34263367|    1080|   9076|24/06/2014 00:57|          695|Islington Green, ...|24/06/2014 00:39|            311|Foley Street, Fit...|\n",
            "| 34603487|     660|   6328|03/07/2014 11:51|          695|Islington Green, ...|03/07/2014 11:40|             22|Northington Stree...|\n",
            "| 34689078|     120|   2006|05/07/2014 15:09|          357|Howland Street, F...|05/07/2014 15:07|            311|Foley Street, Fit...|\n",
            "| 34724273|    1260|   7904|06/07/2014 16:35|          695|Islington Green, ...|06/07/2014 16:14|            311|Foley Street, Fit...|\n",
            "| 34956750|    1500|   8251|13/07/2014 00:41|           93|Cloudesley Road, ...|13/07/2014 00:16|            311|Foley Street, Fit...|\n",
            "+---------+--------+-------+----------------+-------------+--------------------+----------------+---------------+--------------------+\n",
            "only showing top 5 rows\n",
            "\n"
          ]
        }
      ]
    },
    {
      "cell_type": "code",
      "source": [
        "tfl.count()"
      ],
      "metadata": {
        "id": "YCG2iRFwOaE8",
        "colab": {
          "base_uri": "https://localhost:8080/"
        },
        "outputId": "e31676de-3fcb-4901-cdf9-a43acae9f4c8"
      },
      "execution_count": null,
      "outputs": [
        {
          "output_type": "execute_result",
          "data": {
            "text/plain": [
              "11481596"
            ]
          },
          "metadata": {},
          "execution_count": 9
        }
      ]
    },
    {
      "cell_type": "code",
      "source": [
        "tfl.columns"
      ],
      "metadata": {
        "id": "DqpkYSP6Odl0",
        "colab": {
          "base_uri": "https://localhost:8080/"
        },
        "outputId": "77ea0fee-a80b-452f-cc44-a8900059736d"
      },
      "execution_count": null,
      "outputs": [
        {
          "output_type": "execute_result",
          "data": {
            "text/plain": [
              "['Rental Id',\n",
              " 'Duration',\n",
              " 'Bike Id',\n",
              " 'End Date',\n",
              " 'EndStation Id',\n",
              " 'EndStation Name',\n",
              " 'Start Date',\n",
              " 'StartStation Id',\n",
              " 'StartStation Name']"
            ]
          },
          "metadata": {},
          "execution_count": 10
        }
      ]
    },
    {
      "cell_type": "code",
      "source": [
        "tfl.dtypes"
      ],
      "metadata": {
        "id": "f79-hzQbIk4V",
        "colab": {
          "base_uri": "https://localhost:8080/"
        },
        "outputId": "4e46c5e8-2325-4f8b-d898-dec035f9bf3c"
      },
      "execution_count": null,
      "outputs": [
        {
          "output_type": "execute_result",
          "data": {
            "text/plain": [
              "[('Rental Id', 'string'),\n",
              " ('Duration', 'string'),\n",
              " ('Bike Id', 'string'),\n",
              " ('End Date', 'string'),\n",
              " ('EndStation Id', 'string'),\n",
              " ('EndStation Name', 'string'),\n",
              " ('Start Date', 'string'),\n",
              " ('StartStation Id', 'string'),\n",
              " ('StartStation Name', 'string')]"
            ]
          },
          "metadata": {},
          "execution_count": 11
        }
      ]
    },
    {
      "cell_type": "code",
      "source": [
        "tfl =  tfl.withColumn(\"Duration\", tfl[\"Duration\"].cast(IntegerType()))"
      ],
      "metadata": {
        "id": "MuLONPr3HfxB"
      },
      "execution_count": null,
      "outputs": []
    },
    {
      "cell_type": "code",
      "source": [
        "#Count of the number of the columns.\n",
        "#Since data.columns returns a list, we can count the elements of the list using the len python len method\n",
        "print(f\"The number of columns in the data dataframe is: {len(tfl.columns)}\")"
      ],
      "metadata": {
        "id": "YeRdlk9VrkkL",
        "colab": {
          "base_uri": "https://localhost:8080/"
        },
        "outputId": "81861ad8-9626-49a3-8775-118917a2fda2"
      },
      "execution_count": null,
      "outputs": [
        {
          "output_type": "stream",
          "name": "stdout",
          "text": [
            "The number of columns in the data dataframe is: 9\n"
          ]
        }
      ]
    },
    {
      "cell_type": "code",
      "source": [
        "# see how many entries (rows) in data\n",
        "rows = tfl.count()\n",
        "print(f\"There are {rows/1e6} million rows in the Transport for London dataset\")"
      ],
      "metadata": {
        "id": "OrcWEFXyIuOb",
        "colab": {
          "base_uri": "https://localhost:8080/"
        },
        "outputId": "420788c2-77a1-417f-b67b-c3580b8afeab"
      },
      "execution_count": null,
      "outputs": [
        {
          "output_type": "stream",
          "name": "stdout",
          "text": [
            "There are 11.481596 million rows in the Transport for London dataset\n"
          ]
        }
      ]
    },
    {
      "cell_type": "code",
      "source": [
        "tfl_subset_cols = [\"Bike Id\",\"Duration\",\"End Date\" ,\"EndStation Name\",\"Start Date\", \"StartStation Name\"]"
      ],
      "metadata": {
        "id": "F8aSxxqoOsyt"
      },
      "execution_count": null,
      "outputs": []
    },
    {
      "cell_type": "code",
      "source": [
        "tfl = tfl.select(tfl_subset_cols)"
      ],
      "metadata": {
        "id": "8r2G1j8ZO4nr"
      },
      "execution_count": null,
      "outputs": []
    },
    {
      "cell_type": "code",
      "source": [
        "tfl.show(5)"
      ],
      "metadata": {
        "id": "xW0Tsmj_taka",
        "colab": {
          "base_uri": "https://localhost:8080/"
        },
        "outputId": "4d770b2b-6bb7-4c5d-885c-5042a7172b6e"
      },
      "execution_count": null,
      "outputs": [
        {
          "output_type": "stream",
          "name": "stdout",
          "text": [
            "+-------+--------+----------------+--------------------+----------------+--------------------+\n",
            "|Bike Id|Duration|        End Date|     EndStation Name|      Start Date|   StartStation Name|\n",
            "+-------+--------+----------------+--------------------+----------------+--------------------+\n",
            "|   9076|    1080|24/06/2014 00:57|Islington Green, ...|24/06/2014 00:39|Foley Street, Fit...|\n",
            "|   6328|     660|03/07/2014 11:51|Islington Green, ...|03/07/2014 11:40|Northington Stree...|\n",
            "|   2006|     120|05/07/2014 15:09|Howland Street, F...|05/07/2014 15:07|Foley Street, Fit...|\n",
            "|   7904|    1260|06/07/2014 16:35|Islington Green, ...|06/07/2014 16:14|Foley Street, Fit...|\n",
            "|   8251|    1500|13/07/2014 00:41|Cloudesley Road, ...|13/07/2014 00:16|Foley Street, Fit...|\n",
            "+-------+--------+----------------+--------------------+----------------+--------------------+\n",
            "only showing top 5 rows\n",
            "\n"
          ]
        }
      ]
    },
    {
      "cell_type": "code",
      "source": [
        "#Removed null values in the data\n",
        "dropped_na_df = tfl.na.drop()"
      ],
      "metadata": {
        "id": "gf3B9pEzJHGQ"
      },
      "execution_count": null,
      "outputs": []
    },
    {
      "cell_type": "code",
      "source": [
        "count_after_na_drop = dropped_na_df.count()"
      ],
      "metadata": {
        "id": "0GxMzdsJJVoB"
      },
      "execution_count": null,
      "outputs": []
    },
    {
      "cell_type": "code",
      "source": [
        "dropped_duplicates_df = dropped_na_df.dropDuplicates()"
      ],
      "metadata": {
        "id": "AhPI38r9JbFW"
      },
      "execution_count": null,
      "outputs": []
    },
    {
      "cell_type": "code",
      "source": [
        "count_after_duplicates_drop = dropped_duplicates_df.count()"
      ],
      "metadata": {
        "id": "ZLAMXCh3Jjwk"
      },
      "execution_count": null,
      "outputs": []
    },
    {
      "cell_type": "code",
      "source": [
        "df = dropped_duplicates_df.filter(dropped_duplicates_df[\"Duration\"] > 0)"
      ],
      "metadata": {
        "id": "UGwHd0omJoBF"
      },
      "execution_count": null,
      "outputs": []
    },
    {
      "cell_type": "code",
      "source": [
        "count_after_dropping_values_less_than_or_equal_to_zero = df.count()"
      ],
      "metadata": {
        "id": "AFTGFK38JsMV"
      },
      "execution_count": null,
      "outputs": []
    },
    {
      "cell_type": "code",
      "source": [
        "print(f\"Number of null values in the data is: {(rows - count_after_na_drop)/1e6} million\")\n",
        "print(f\"Number of duplicate rows: {count_after_na_drop-count_after_duplicates_drop}\")\n",
        "print(f\"Removed rows with duration less than or equal to zero: {count_after_duplicates_drop - count_after_dropping_values_less_than_or_equal_to_zero}\")"
      ],
      "metadata": {
        "id": "HOr-SxweJy3w",
        "colab": {
          "base_uri": "https://localhost:8080/"
        },
        "outputId": "ff5bf3eb-3858-4a2c-d465-be02a0045b6f"
      },
      "execution_count": null,
      "outputs": [
        {
          "output_type": "stream",
          "name": "stdout",
          "text": [
            "Number of null values in the data is: 1.239245 million\n",
            "Number of duplicate rows: 228\n",
            "Removed rows with duration less than or equal to zero: 32274\n"
          ]
        }
      ]
    },
    {
      "cell_type": "code",
      "source": [
        "df.show(5)"
      ],
      "metadata": {
        "id": "tXbRvku8zI6D",
        "colab": {
          "base_uri": "https://localhost:8080/"
        },
        "outputId": "23263ad9-c3c2-4ec2-da30-5b337a5d17ac"
      },
      "execution_count": null,
      "outputs": [
        {
          "output_type": "stream",
          "name": "stdout",
          "text": [
            "+-------+--------+----------------+--------------------+----------------+--------------------+\n",
            "|Bike Id|Duration|        End Date|     EndStation Name|      Start Date|   StartStation Name|\n",
            "+-------+--------+----------------+--------------------+----------------+--------------------+\n",
            "|  10900|    1200|07/07/2014 09:16|Rochester Row, We...|07/07/2014 08:56|Rossmore Road, Ma...|\n",
            "|   1635|    2460|08/07/2014 10:00|Guilford Street ,...|08/07/2014 09:19|Watney Street, Sh...|\n",
            "|  10455|     420|08/07/2014 20:15|Granby Street, Sh...|08/07/2014 20:08|Old Montague Stre...|\n",
            "|   6448|     300|25/06/2014 19:21|Sadlers Sports Ce...|25/06/2014 19:16|Museum of London,...|\n",
            "|  11198|    1620|16/07/2014 08:17|Moorfields, Moorgate|16/07/2014 07:50|Clarence Walk, St...|\n",
            "+-------+--------+----------------+--------------------+----------------+--------------------+\n",
            "only showing top 5 rows\n",
            "\n"
          ]
        }
      ]
    },
    {
      "cell_type": "code",
      "source": [
        "df[[\"Duration\"]].summary().show()"
      ],
      "metadata": {
        "id": "fXaM23msJ7P2",
        "colab": {
          "base_uri": "https://localhost:8080/"
        },
        "outputId": "ae43edad-1823-4ea8-e3c6-de40e3ea358e"
      },
      "execution_count": null,
      "outputs": [
        {
          "output_type": "stream",
          "name": "stdout",
          "text": [
            "+-------+------------------+\n",
            "|summary|          Duration|\n",
            "+-------+------------------+\n",
            "|  count|          10209849|\n",
            "|   mean|1470.5896100911973|\n",
            "| stddev|12958.309902541701|\n",
            "|    min|                60|\n",
            "|    25%|               480|\n",
            "|    50%|               840|\n",
            "|    75%|              1320|\n",
            "|    max|           2596560|\n",
            "+-------+------------------+\n",
            "\n"
          ]
        }
      ]
    },
    {
      "cell_type": "code",
      "source": [
        "#Created a column for the month and year for querying the data effectively\n",
        "df = df.withColumn(\"Month\", substring(col(\"Start Date\"), 4, 2))\n",
        "df = df.withColumn(\"Year\", substring(col(\"Start Date\"), 7, 4))\n",
        "df.show(5)"
      ],
      "metadata": {
        "id": "RVQSmEpKKOs6",
        "colab": {
          "base_uri": "https://localhost:8080/"
        },
        "outputId": "89cb3f93-e6d9-4e20-ff86-d4fb36bf59aa"
      },
      "execution_count": null,
      "outputs": [
        {
          "output_type": "stream",
          "name": "stdout",
          "text": [
            "+-------+--------+----------------+--------------------+----------------+--------------------+-----+----+\n",
            "|Bike Id|Duration|        End Date|     EndStation Name|      Start Date|   StartStation Name|Month|Year|\n",
            "+-------+--------+----------------+--------------------+----------------+--------------------+-----+----+\n",
            "|  10900|    1200|07/07/2014 09:16|Rochester Row, We...|07/07/2014 08:56|Rossmore Road, Ma...|   07|2014|\n",
            "|   1635|    2460|08/07/2014 10:00|Guilford Street ,...|08/07/2014 09:19|Watney Street, Sh...|   07|2014|\n",
            "|  10455|     420|08/07/2014 20:15|Granby Street, Sh...|08/07/2014 20:08|Old Montague Stre...|   07|2014|\n",
            "|   6448|     300|25/06/2014 19:21|Sadlers Sports Ce...|25/06/2014 19:16|Museum of London,...|   06|2014|\n",
            "|  11198|    1620|16/07/2014 08:17|Moorfields, Moorgate|16/07/2014 07:50|Clarence Walk, St...|   07|2014|\n",
            "+-------+--------+----------------+--------------------+----------------+--------------------+-----+----+\n",
            "only showing top 5 rows\n",
            "\n"
          ]
        }
      ]
    },
    {
      "cell_type": "code",
      "source": [
        "print(f\"The number of rows before removal of start date other than 2014 is: {df.count()/1e6} million\")"
      ],
      "metadata": {
        "id": "qT6fFjE-Lk2M",
        "colab": {
          "base_uri": "https://localhost:8080/"
        },
        "outputId": "1108f5ad-94bd-4422-e441-463fb81cec97"
      },
      "execution_count": null,
      "outputs": [
        {
          "output_type": "stream",
          "name": "stdout",
          "text": [
            "The number of rows before removal of start date other than 2014 is: 10.209849 million\n"
          ]
        }
      ]
    },
    {
      "cell_type": "code",
      "source": [
        "df = df.filter(df[\"Year\"] == 2014)"
      ],
      "metadata": {
        "id": "XUDmpzeuMceJ"
      },
      "execution_count": null,
      "outputs": []
    },
    {
      "cell_type": "code",
      "source": [
        "print(f\"The number of rows after removal of start date other than 2014 is: {df.count()/1e6} million\")"
      ],
      "metadata": {
        "id": "2Kuh_RR4MmbY",
        "colab": {
          "base_uri": "https://localhost:8080/"
        },
        "outputId": "cde05187-5c72-41b2-cbcf-82ee8aaf752b"
      },
      "execution_count": null,
      "outputs": [
        {
          "output_type": "stream",
          "name": "stdout",
          "text": [
            "The number of rows after removal of start date other than 2014 is: 9.864161 million\n"
          ]
        }
      ]
    },
    {
      "cell_type": "code",
      "source": [
        "df.dtypes"
      ],
      "metadata": {
        "id": "LQp8xqZRvv_5",
        "colab": {
          "base_uri": "https://localhost:8080/"
        },
        "outputId": "8cfe4724-4bf3-4b9a-f0fc-b043273b396b"
      },
      "execution_count": null,
      "outputs": [
        {
          "output_type": "execute_result",
          "data": {
            "text/plain": [
              "[('Bike Id', 'string'),\n",
              " ('Duration', 'int'),\n",
              " ('End Date', 'string'),\n",
              " ('EndStation Name', 'string'),\n",
              " ('Start Date', 'string'),\n",
              " ('StartStation Name', 'string'),\n",
              " ('Month', 'string'),\n",
              " ('Year', 'string')]"
            ]
          },
          "metadata": {},
          "execution_count": 31
        }
      ]
    },
    {
      "cell_type": "markdown",
      "source": [
        "#DATA EXPLORATION"
      ],
      "metadata": {
        "id": "-hqgXGFXpZ8x"
      }
    },
    {
      "cell_type": "code",
      "source": [
        "df.show(5)"
      ],
      "metadata": {
        "id": "O3kVvssDOVgA",
        "colab": {
          "base_uri": "https://localhost:8080/"
        },
        "outputId": "1ebdfac4-1c82-4c3d-bb86-7696db1f1585"
      },
      "execution_count": null,
      "outputs": [
        {
          "output_type": "stream",
          "name": "stdout",
          "text": [
            "+-------+--------+----------------+--------------------+----------------+--------------------+-----+----+\n",
            "|Bike Id|Duration|        End Date|     EndStation Name|      Start Date|   StartStation Name|Month|Year|\n",
            "+-------+--------+----------------+--------------------+----------------+--------------------+-----+----+\n",
            "|  10900|    1200|07/07/2014 09:16|Rochester Row, We...|07/07/2014 08:56|Rossmore Road, Ma...|   07|2014|\n",
            "|   1635|    2460|08/07/2014 10:00|Guilford Street ,...|08/07/2014 09:19|Watney Street, Sh...|   07|2014|\n",
            "|  10455|     420|08/07/2014 20:15|Granby Street, Sh...|08/07/2014 20:08|Old Montague Stre...|   07|2014|\n",
            "|   6448|     300|25/06/2014 19:21|Sadlers Sports Ce...|25/06/2014 19:16|Museum of London,...|   06|2014|\n",
            "|  11198|    1620|16/07/2014 08:17|Moorfields, Moorgate|16/07/2014 07:50|Clarence Walk, St...|   07|2014|\n",
            "+-------+--------+----------------+--------------------+----------------+--------------------+-----+----+\n",
            "only showing top 5 rows\n",
            "\n"
          ]
        }
      ]
    },
    {
      "cell_type": "markdown",
      "source": [
        "##Most frequent station by StartStation Name and EndStation Name"
      ],
      "metadata": {
        "id": "cWhnprPgpKpA"
      }
    },
    {
      "cell_type": "code",
      "source": [
        "startstation = df.groupBy('StartStation Name').count().orderBy(desc('count'))\n",
        "startstation.show(10)"
      ],
      "metadata": {
        "id": "Ez7Mqb6hlpLX",
        "colab": {
          "base_uri": "https://localhost:8080/"
        },
        "outputId": "b23cc011-2c8e-4fda-eb31-601a94d1bd50"
      },
      "execution_count": null,
      "outputs": [
        {
          "output_type": "stream",
          "name": "stdout",
          "text": [
            "+--------------------+-----+\n",
            "|   StartStation Name|count|\n",
            "+--------------------+-----+\n",
            "|Hyde Park Corner,...|99621|\n",
            "|Belgrove Street ,...|85283|\n",
            "|Waterloo Station ...|78295|\n",
            "|Black Lion Gate, ...|70507|\n",
            "|Albert Gate, Hyde...|68496|\n",
            "|Waterloo Station ...|51780|\n",
            "|Wormwood Street, ...|51406|\n",
            "|Hop Exchange, The...|50002|\n",
            "|Speakers' Corner ...|48210|\n",
            "|Wellington Arch, ...|47236|\n",
            "+--------------------+-----+\n",
            "only showing top 10 rows\n",
            "\n"
          ]
        }
      ]
    },
    {
      "cell_type": "code",
      "source": [
        "endstation = df.groupBy('EndStation Name').count().orderBy(desc('count'))\n",
        "endstation.show(10)"
      ],
      "metadata": {
        "id": "Q_62edM1qnBJ",
        "colab": {
          "base_uri": "https://localhost:8080/"
        },
        "outputId": "a542d763-e478-433c-bbcf-f55bcfc0c803"
      },
      "execution_count": null,
      "outputs": [
        {
          "output_type": "stream",
          "name": "stdout",
          "text": [
            "+--------------------+-----+\n",
            "|     EndStation Name|count|\n",
            "+--------------------+-----+\n",
            "|Hyde Park Corner,...|99265|\n",
            "|Belgrove Street ,...|84439|\n",
            "|Waterloo Station ...|80818|\n",
            "|Albert Gate, Hyde...|69117|\n",
            "|Black Lion Gate, ...|67759|\n",
            "|Hop Exchange, The...|64606|\n",
            "|Wormwood Street, ...|53320|\n",
            "|Stonecutter Stree...|50647|\n",
            "|Speakers' Corner ...|47726|\n",
            "|Triangle Car Park...|44605|\n",
            "+--------------------+-----+\n",
            "only showing top 10 rows\n",
            "\n"
          ]
        }
      ]
    },
    {
      "cell_type": "markdown",
      "source": [
        "##Least frequent station by StartStation Name and End Station Name"
      ],
      "metadata": {
        "id": "S1ZEhBIwqSsU"
      }
    },
    {
      "cell_type": "code",
      "source": [
        "startstation = df.groupBy('StartStation Name').count().orderBy(asc('count'))\n",
        "startstation.show(10)"
      ],
      "metadata": {
        "id": "Ky1-KVmRrASZ",
        "colab": {
          "base_uri": "https://localhost:8080/"
        },
        "outputId": "ea98d00c-74d9-4bf9-dbc6-7233b67702b5"
      },
      "execution_count": null,
      "outputs": [
        {
          "output_type": "stream",
          "name": "stdout",
          "text": [
            "+--------------------+-----+\n",
            "|   StartStation Name|count|\n",
            "+--------------------+-----+\n",
            "|Mechanical Worksh...|    1|\n",
            "|           tabletop1|    2|\n",
            "|Contact Centre, S...|    5|\n",
            "|       Pop Up Dock 1|  562|\n",
            "|Limburg Road, Cla...|  705|\n",
            "|Santos Road, Wand...|  744|\n",
            "|Grant Road Centra...|  785|\n",
            "|Westfield Eastern...|  799|\n",
            "|Wandsworth Museum...|  890|\n",
            "|South Quay East, ...| 1034|\n",
            "+--------------------+-----+\n",
            "only showing top 10 rows\n",
            "\n"
          ]
        }
      ]
    },
    {
      "cell_type": "code",
      "source": [
        "endstation = df.groupBy('EndStation Name').count().orderBy(asc('count'))\n",
        "endstation.show(10)"
      ],
      "metadata": {
        "id": "bvDB54wcq9m3",
        "colab": {
          "base_uri": "https://localhost:8080/"
        },
        "outputId": "2b2baefa-ee6d-447f-e26c-9b3636bad57f"
      },
      "execution_count": null,
      "outputs": [
        {
          "output_type": "stream",
          "name": "stdout",
          "text": [
            "+--------------------+-----+\n",
            "|     EndStation Name|count|\n",
            "+--------------------+-----+\n",
            "|           tabletop1|    2|\n",
            "|Contact Centre, S...|    6|\n",
            "|Electrical Worksh...|   20|\n",
            "|Mechanical Worksh...|  215|\n",
            "|Mechanical Worksh...|  253|\n",
            "|       Pop Up Dock 1|  495|\n",
            "|Santos Road, Wand...|  699|\n",
            "|Limburg Road, Cla...|  832|\n",
            "|Manfred Road, Eas...|  870|\n",
            "|Wandsworth Museum...|  896|\n",
            "+--------------------+-----+\n",
            "only showing top 10 rows\n",
            "\n"
          ]
        }
      ]
    },
    {
      "cell_type": "markdown",
      "source": [
        "##Top Duration of rides by StartStation and EndStation Name"
      ],
      "metadata": {
        "id": "SA9C-OaavpaQ"
      }
    },
    {
      "cell_type": "code",
      "source": [
        "top_duration_by_startstation = df.groupBy('Startstation Name').agg(max('Duration').alias('duration')).orderBy(desc('duration'))\n",
        "top_duration_by_startstation.show(10)"
      ],
      "metadata": {
        "id": "H8lOZkDytswA",
        "colab": {
          "base_uri": "https://localhost:8080/"
        },
        "outputId": "0573b16f-2cb6-468c-a11a-6bf55193d4f6"
      },
      "execution_count": null,
      "outputs": [
        {
          "output_type": "stream",
          "name": "stdout",
          "text": [
            "+--------------------+--------+\n",
            "|   Startstation Name|duration|\n",
            "+--------------------+--------+\n",
            "|Altab Ali Park, W...| 2596560|\n",
            "|Columbia Road, We...| 2564700|\n",
            "|Park Street, Bank...| 2519100|\n",
            "|Montpelier Street...| 2503620|\n",
            "|Black Lion Gate, ...| 2490840|\n",
            "|Irene Road, Parso...| 2460120|\n",
            "|Shepherd's Bush R...| 2427840|\n",
            "|    Devons Road, Bow| 2427480|\n",
            "|East Ferry Road, ...| 2419440|\n",
            "|Norton Folgate, L...| 2406000|\n",
            "+--------------------+--------+\n",
            "only showing top 10 rows\n",
            "\n"
          ]
        }
      ]
    },
    {
      "cell_type": "code",
      "source": [
        "top_duration_by_endstation = df.groupBy('Endstation Name').agg(max('Duration').alias('duration')).orderBy(desc('duration'))\n",
        "top_duration_by_endstation.show(10)"
      ],
      "metadata": {
        "id": "F8k4NxNVusvb",
        "colab": {
          "base_uri": "https://localhost:8080/"
        },
        "outputId": "6e021974-63ff-47ef-f7b5-671bfda539bc"
      },
      "execution_count": null,
      "outputs": [
        {
          "output_type": "stream",
          "name": "stdout",
          "text": [
            "+--------------------+--------+\n",
            "|     Endstation Name|duration|\n",
            "+--------------------+--------+\n",
            "|William IV Street...| 2596560|\n",
            "|Shoreditch Park, ...| 2564700|\n",
            "|Mechanical Worksh...| 2519100|\n",
            "|Mechanical Worksh...| 2503620|\n",
            "|All Saints Church...| 2490840|\n",
            "|Hammersmith Road,...| 2460120|\n",
            "|Westfield Souther...| 2427840|\n",
            "|Chrisp Street Mar...| 2406000|\n",
            "|Westferry DLR, Li...| 2355060|\n",
            "|Watney Market, St...| 2317620|\n",
            "+--------------------+--------+\n",
            "only showing top 10 rows\n",
            "\n"
          ]
        }
      ]
    },
    {
      "cell_type": "markdown",
      "source": [
        "##Least Duration of rides by StartStation and EndStation Name"
      ],
      "metadata": {
        "id": "M4DdlDWlwEFk"
      }
    },
    {
      "cell_type": "code",
      "source": [
        "least_duration_by_startstation = df.groupBy('Startstation Name').agg(min('Duration').alias('duration')).orderBy(asc('duration'))\n",
        "least_duration_by_startstation.show(10)"
      ],
      "metadata": {
        "id": "AQ0sihDju6If",
        "colab": {
          "base_uri": "https://localhost:8080/"
        },
        "outputId": "38990b3c-82a3-401d-dfcc-d15f6212465d"
      },
      "execution_count": null,
      "outputs": [
        {
          "output_type": "stream",
          "name": "stdout",
          "text": [
            "+--------------------+--------+\n",
            "|   Startstation Name|duration|\n",
            "+--------------------+--------+\n",
            "|Charlotte Street,...|      60|\n",
            "|Hinde Street, Mar...|      60|\n",
            "|Lambeth Road, Vau...|      60|\n",
            "|George Place Mews...|      60|\n",
            "|Panton Street, We...|      60|\n",
            "|  Park Lane, Mayfair|      60|\n",
            "|Portland Place, M...|      60|\n",
            "|Embankment (Horse...|      60|\n",
            "|Montgomery Square...|      60|\n",
            "|Falcon Road, Clap...|      60|\n",
            "+--------------------+--------+\n",
            "only showing top 10 rows\n",
            "\n"
          ]
        }
      ]
    },
    {
      "cell_type": "code",
      "source": [
        "least_duration_by_endstation = df.groupBy('Endstation Name').agg(min('Duration').alias('duration')).orderBy(asc('duration'))\n",
        "least_duration_by_endstation.show(10)"
      ],
      "metadata": {
        "id": "zZGuf0JPvBhe",
        "colab": {
          "base_uri": "https://localhost:8080/"
        },
        "outputId": "57f4c0b2-61e6-4cfa-bad3-9c0a4e8a7c37"
      },
      "execution_count": null,
      "outputs": [
        {
          "output_type": "stream",
          "name": "stdout",
          "text": [
            "+--------------------+--------+\n",
            "|     Endstation Name|duration|\n",
            "+--------------------+--------+\n",
            "|Lambeth Road, Vau...|      60|\n",
            "|East Ferry Road, ...|      60|\n",
            "|Charlotte Street,...|      60|\n",
            "|Panton Street, We...|      60|\n",
            "|Embankment (Horse...|      60|\n",
            "|  Park Lane, Mayfair|      60|\n",
            "|Christopher Stree...|      60|\n",
            "|Russell Gardens, ...|      60|\n",
            "|Falcon Road, Clap...|      60|\n",
            "|Appold Street, Li...|      60|\n",
            "+--------------------+--------+\n",
            "only showing top 10 rows\n",
            "\n"
          ]
        }
      ]
    },
    {
      "cell_type": "code",
      "source": [
        "least_duration_by_startstation = least_duration_by_startstation.toPandas()\n",
        "least_duration_by_startstation = least_duration_by_startstation.head(8)\n",
        "sns.barplot(data=least_duration_by_startstation, y=\"Startstation Name\", x=\"duration\", hue=least_duration_by_startstation[\"Startstation Name\"], palette=\"viridis\")\n",
        "plt.xlabel(\"Duration\")\n",
        "plt.ylabel(\"Startstation Name\")\n",
        "plt.title(\"Least Startstation name by duration\");"
      ],
      "metadata": {
        "id": "40oV-pCDGV5U",
        "colab": {
          "base_uri": "https://localhost:8080/",
          "height": 472
        },
        "outputId": "acada03f-4874-4350-f448-df276b883989"
      },
      "execution_count": null,
      "outputs": [
        {
          "output_type": "display_data",
          "data": {
            "text/plain": [
              "<Figure size 640x480 with 1 Axes>"
            ],
            "image/png": "[encoded data removed]"
          },
          "metadata": {}
        }
      ]
    },
    {
      "cell_type": "code",
      "source": [
        "df.show(5)"
      ],
      "metadata": {
        "id": "4Vr32Dz80dhf",
        "colab": {
          "base_uri": "https://localhost:8080/"
        },
        "outputId": "9d468890-ce76-493a-a697-06ffb4b6b3c3"
      },
      "execution_count": null,
      "outputs": [
        {
          "output_type": "stream",
          "name": "stdout",
          "text": [
            "+-------+--------+----------------+--------------------+----------------+--------------------+-----+----+\n",
            "|Bike Id|Duration|        End Date|     EndStation Name|      Start Date|   StartStation Name|Month|Year|\n",
            "+-------+--------+----------------+--------------------+----------------+--------------------+-----+----+\n",
            "|  10900|    1200|07/07/2014 09:16|Rochester Row, We...|07/07/2014 08:56|Rossmore Road, Ma...|   07|2014|\n",
            "|   1635|    2460|08/07/2014 10:00|Guilford Street ,...|08/07/2014 09:19|Watney Street, Sh...|   07|2014|\n",
            "|  10455|     420|08/07/2014 20:15|Granby Street, Sh...|08/07/2014 20:08|Old Montague Stre...|   07|2014|\n",
            "|   6448|     300|25/06/2014 19:21|Sadlers Sports Ce...|25/06/2014 19:16|Museum of London,...|   06|2014|\n",
            "|  11198|    1620|16/07/2014 08:17|Moorfields, Moorgate|16/07/2014 07:50|Clarence Walk, St...|   07|2014|\n",
            "+-------+--------+----------------+--------------------+----------------+--------------------+-----+----+\n",
            "only showing top 5 rows\n",
            "\n"
          ]
        }
      ]
    },
    {
      "cell_type": "code",
      "source": [
        "duration_by_month = df.groupBy(\"Month\").agg(avg('Duration').alias('duration')).orderBy(asc('Month'))\n",
        "duration_by_month.show()"
      ],
      "metadata": {
        "id": "fVGc8fdI4TiI",
        "colab": {
          "base_uri": "https://localhost:8080/"
        },
        "outputId": "c472ca13-9bc7-4cf9-d263-3308b96c0203"
      },
      "execution_count": null,
      "outputs": [
        {
          "output_type": "stream",
          "name": "stdout",
          "text": [
            "+-----+------------------+\n",
            "|Month|          duration|\n",
            "+-----+------------------+\n",
            "|   01|1247.0505239090028|\n",
            "|   02|1293.8808194609342|\n",
            "|   03|1440.4395003557975|\n",
            "|   04|1530.1822872056348|\n",
            "|   05|1577.8602847558398|\n",
            "|   06|1568.6224834397206|\n",
            "|   07|1569.9078689512444|\n",
            "|   08|1651.7460585208946|\n",
            "|   09| 1413.699774683901|\n",
            "|   10| 1354.910192715314|\n",
            "|   11|1274.7543766125766|\n",
            "|   12|1410.5882208820863|\n",
            "+-----+------------------+\n",
            "\n"
          ]
        }
      ]
    },
    {
      "cell_type": "code",
      "source": [
        "duration_by_month = duration_by_month.toPandas()\n",
        "sns.barplot(data=duration_by_month, x=\"Month\", y=\"duration\", hue=duration_by_month.Month, palette=\"viridis\")\n",
        "plt.xlabel(\"Month\")\n",
        "plt.ylabel(\"Average Duration\")\n",
        "plt.title(\"Average Duration by Month\");"
      ],
      "metadata": {
        "id": "Jn1Pj2mq8HTj",
        "colab": {
          "base_uri": "https://localhost:8080/",
          "height": 472
        },
        "outputId": "925c8029-18ed-40ca-d509-933007beffe6"
      },
      "execution_count": null,
      "outputs": [
        {
          "output_type": "display_data",
          "data": {
            "text/plain": [
              "<Figure size 640x480 with 1 Axes>"
            ],
            "image/png": "[encoded data removed]"
          },
          "metadata": {}
        }
      ]
    },
    {
      "cell_type": "markdown",
      "source": [
        "Reflection: The month of August have the highest rides in total while the month of January has the least"
      ],
      "metadata": {
        "id": "gDgSPOt7FJvs"
      }
    },
    {
      "cell_type": "markdown",
      "source": [
        "#DATA WRANGLING FOR HYPOTHESIS TEST"
      ],
      "metadata": {
        "id": "W_X8vGLLrkrz"
      }
    },
    {
      "cell_type": "code",
      "source": [
        "# Applying a python lambda function to the \"StartStation Name\" column to create a new column for Baylis and others\n",
        "df = df.withColumn(\"Baylis_and_others\", udf(lambda name: \"Baylis\" if \"Baylis\" in name else \"Others\")(df[\"StartStation Name\"]))\n",
        "df.show()"
      ],
      "metadata": {
        "id": "ky2mUhVgPA3A",
        "colab": {
          "base_uri": "https://localhost:8080/"
        },
        "outputId": "6173ccfa-ad1b-44c3-b05c-ef3a2d0f584f"
      },
      "execution_count": null,
      "outputs": [
        {
          "output_type": "stream",
          "name": "stdout",
          "text": [
            "+-------+--------+----------------+--------------------+----------------+--------------------+-----+----+-----------------+\n",
            "|Bike Id|Duration|        End Date|     EndStation Name|      Start Date|   StartStation Name|Month|Year|Baylis_and_others|\n",
            "+-------+--------+----------------+--------------------+----------------+--------------------+-----+----+-----------------+\n",
            "|  10900|    1200|07/07/2014 09:16|Rochester Row, We...|07/07/2014 08:56|Rossmore Road, Ma...|   07|2014|           Others|\n",
            "|   1635|    2460|08/07/2014 10:00|Guilford Street ,...|08/07/2014 09:19|Watney Street, Sh...|   07|2014|           Others|\n",
            "|  10455|     420|08/07/2014 20:15|Granby Street, Sh...|08/07/2014 20:08|Old Montague Stre...|   07|2014|           Others|\n",
            "|   6448|     300|25/06/2014 19:21|Sadlers Sports Ce...|25/06/2014 19:16|Museum of London,...|   06|2014|           Others|\n",
            "|  11198|    1620|16/07/2014 08:17|Moorfields, Moorgate|16/07/2014 07:50|Clarence Walk, St...|   07|2014|           Others|\n",
            "|  10471|     840|30/06/2014 08:57|Kennington Lane R...|30/06/2014 08:43|Rodney Road , Wal...|   06|2014|           Others|\n",
            "|   1196|     480|13/07/2014 15:46|Kennington Cross,...|13/07/2014 15:38|Vauxhall Walk, Va...|   07|2014|           Others|\n",
            "|   9414|     480|26/06/2014 07:12|Belgrave Square, ...|26/06/2014 07:04|Hinde Street, Mar...|   06|2014|           Others|\n",
            "|   4535|    1140|18/07/2014 18:29|Great Marlborough...|18/07/2014 18:10|  Queen Street, Bank|   07|2014|           Others|\n",
            "|  11404|     780|13/07/2014 12:39|Kennington Lane R...|13/07/2014 12:26|Waterloo Bridge, ...|   07|2014|           Others|\n",
            "|   8173|     780|17/07/2014 18:25|Waterloo Station ...|17/07/2014 18:12|Aldersgate Street...|   07|2014|           Others|\n",
            "|   8917|     420|08/07/2014 08:01|Derry Street, Ken...|08/07/2014 07:54|Black Lion Gate, ...|   07|2014|           Others|\n",
            "|  11421|     720|15/07/2014 10:43|Drury Lane, Coven...|15/07/2014 10:31|Marylebone Lane, ...|   07|2014|           Others|\n",
            "|   7109|    1440|14/07/2014 06:34|Wormwood Street, ...|14/07/2014 06:10|Hinde Street, Mar...|   07|2014|           Others|\n",
            "|   9480|     780|04/07/2014 09:05|Devonshire Square...|04/07/2014 08:52|Baylis Road, Wate...|   07|2014|           Baylis|\n",
            "|   6628|    1020|12/07/2014 23:35|Hampton Street, W...|12/07/2014 23:18|Charles II Street...|   07|2014|           Others|\n",
            "|   8654|     840|01/07/2014 00:27|Walworth Road, So...|01/07/2014 00:13|Craven Street, St...|   07|2014|           Others|\n",
            "|  11086|    3180|26/06/2014 16:01|Barbican Centre, ...|26/06/2014 15:08|Barbican Centre, ...|   06|2014|           Others|\n",
            "|   7927|     420|11/07/2014 13:05|New Inn Yard, Sho...|11/07/2014 12:58|Barbican Centre, ...|   07|2014|           Others|\n",
            "|   7780|     360|30/06/2014 19:41|Milroy Walk, Sout...|30/06/2014 19:35|Park Street, Bank...|   06|2014|           Others|\n",
            "+-------+--------+----------------+--------------------+----------------+--------------------+-----+----+-----------------+\n",
            "only showing top 20 rows\n",
            "\n"
          ]
        }
      ]
    },
    {
      "cell_type": "code",
      "source": [
        "# Perform value counts on the \"Bailey_and_others\" column\n",
        "value_counts = df.groupBy(\"Baylis_and_others\").count()\n",
        "value_counts.show()"
      ],
      "metadata": {
        "id": "KYRms-6xPLAj",
        "colab": {
          "base_uri": "https://localhost:8080/"
        },
        "outputId": "b9a0529f-c3a0-45ce-f246-b62af4b33784"
      },
      "execution_count": null,
      "outputs": [
        {
          "output_type": "stream",
          "name": "stdout",
          "text": [
            "+-----------------+-------+\n",
            "|Baylis_and_others|  count|\n",
            "+-----------------+-------+\n",
            "|           Baylis|  26326|\n",
            "|           Others|9837835|\n",
            "+-----------------+-------+\n",
            "\n"
          ]
        }
      ]
    },
    {
      "cell_type": "code",
      "source": [
        "value_counts_df = value_counts.toPandas()\n",
        "sns.barplot(data= value_counts_df, x=\"Baylis_and_others\", y=\"count\", hue =\"Baylis_and_others\", palette=\"viridis\")\n",
        "plt.title('Baylis and Others observation count')\n",
        "plt.xlabel('Startstation Name')\n",
        "plt.ylabel('Number of Observations');"
      ],
      "metadata": {
        "id": "PG_W1FbYm4dQ",
        "colab": {
          "base_uri": "https://localhost:8080/",
          "height": 472
        },
        "outputId": "aafecda4-f3bc-4eb3-ae6b-054b053bef23"
      },
      "execution_count": null,
      "outputs": [
        {
          "output_type": "display_data",
          "data": {
            "text/plain": [
              "<Figure size 640x480 with 1 Axes>"
            ],
            "image/png": "[encoded data removed]"
          },
          "metadata": {}
        }
      ]
    },
    {
      "cell_type": "code",
      "source": [
        "average_duration_df = df.groupBy([\"Month\", \"Baylis_and_others\"]).agg(avg(\"Duration\").alias(\"average_ride_by_month\"))\n",
        "average_duration_df.orderBy(average_duration_df.Month.asc()).show(24)"
      ],
      "metadata": {
        "id": "Dom2ifFCPucm",
        "colab": {
          "base_uri": "https://localhost:8080/"
        },
        "outputId": "c97e939d-982a-4760-9ad0-20998c749aea"
      },
      "execution_count": null,
      "outputs": [
        {
          "output_type": "stream",
          "name": "stdout",
          "text": [
            "+-----+-----------------+---------------------+\n",
            "|Month|Baylis_and_others|average_ride_by_month|\n",
            "+-----+-----------------+---------------------+\n",
            "|   01|           Baylis|    960.2870813397129|\n",
            "|   01|           Others|   1247.9157566495696|\n",
            "|   02|           Others|   1294.5294721724779|\n",
            "|   02|           Baylis|   1064.6280991735537|\n",
            "|   03|           Baylis|     894.668721109399|\n",
            "|   03|           Others|   1441.8672406565413|\n",
            "|   04|           Baylis|    881.6007714561234|\n",
            "|   04|           Others|   1531.8810665818007|\n",
            "|   05|           Baylis|    1050.938673341677|\n",
            "|   05|           Others|   1579.3038874589104|\n",
            "|   06|           Others|   1569.8077658723566|\n",
            "|   06|           Baylis|    1110.615901455767|\n",
            "|   07|           Others|   1570.6447931673715|\n",
            "|   07|           Baylis|   1286.0921445144184|\n",
            "|   08|           Others|   1653.3606386887209|\n",
            "|   08|           Baylis|   1029.8165481093224|\n",
            "|   09|           Baylis|   1247.9394812680116|\n",
            "|   09|           Others|   1414.1419520740462|\n",
            "|   10|           Baylis|    879.4212765957446|\n",
            "|   10|           Others|   1356.1646696133168|\n",
            "|   11|           Baylis|   1048.9418777943367|\n",
            "|   11|           Others|   1275.4024138845407|\n",
            "|   12|           Baylis|    851.7014122394082|\n",
            "|   12|           Others|   1412.0464056175222|\n",
            "+-----+-----------------+---------------------+\n",
            "\n"
          ]
        }
      ]
    },
    {
      "cell_type": "code",
      "source": [
        "hypothesis_testing_df = average_duration_df.groupBy(\"Month\").pivot(\"Baylis_and_others\").agg(first(\"average_ride_by_month\"))\n",
        "hypothesis_testing_df = hypothesis_testing_df.withColumnRenamed(\"Baylis\", \"Average_ride_by_month_Baylis\").withColumnRenamed(\"Others\", \"Average_ride_by_month_Others\")"
      ],
      "metadata": {
        "id": "Eqf1AuMwn2tD"
      },
      "execution_count": null,
      "outputs": []
    },
    {
      "cell_type": "code",
      "source": [
        "hypothesis_testing_df = hypothesis_testing_df.orderBy(hypothesis_testing_df.Month.asc())\n",
        "hypothesis_testing_df.show()"
      ],
      "metadata": {
        "id": "_vPFs-m0DSml",
        "colab": {
          "base_uri": "https://localhost:8080/"
        },
        "outputId": "13fec61e-4ea1-4285-9c50-8edec4a2f004"
      },
      "execution_count": null,
      "outputs": [
        {
          "output_type": "stream",
          "name": "stdout",
          "text": [
            "+-----+----------------------------+----------------------------+\n",
            "|Month|Average_ride_by_month_Baylis|Average_ride_by_month_Others|\n",
            "+-----+----------------------------+----------------------------+\n",
            "|   01|           960.2870813397129|          1247.9157566495696|\n",
            "|   02|          1064.6280991735537|          1294.5294721724779|\n",
            "|   03|            894.668721109399|          1441.8672406565413|\n",
            "|   04|           881.6007714561234|          1531.8810665818007|\n",
            "|   05|           1050.938673341677|          1579.3038874589104|\n",
            "|   06|           1110.615901455767|          1569.8077658723566|\n",
            "|   07|          1286.0921445144184|          1570.6447931673715|\n",
            "|   08|          1029.8165481093224|          1653.3606386887209|\n",
            "|   09|          1247.9394812680116|          1414.1419520740462|\n",
            "|   10|           879.4212765957446|          1356.1646696133168|\n",
            "|   11|          1048.9418777943367|          1275.4024138845407|\n",
            "|   12|           851.7014122394082|          1412.0464056175222|\n",
            "+-----+----------------------------+----------------------------+\n",
            "\n"
          ]
        }
      ]
    },
    {
      "cell_type": "markdown",
      "source": [
        "#VISUALIZATIONS"
      ],
      "metadata": {
        "id": "ghGNmGWqhw_v"
      }
    },
    {
      "cell_type": "code",
      "source": [
        "tfl = hypothesis_testing_df.toPandas()\n",
        "sns.barplot(data=tfl, x=\"Month\", y=\"Average_ride_by_month_Baylis\")\n",
        "plt.title('Average Ride Duration by month Baylis')\n",
        "plt.xlabel('Month')\n",
        "plt.ylabel('Average Ride Duration');"
      ],
      "metadata": {
        "id": "vtEXuMd9WVxv",
        "colab": {
          "base_uri": "https://localhost:8080/",
          "height": 472
        },
        "outputId": "a13f0d36-a036-4417-8c5f-b699f4cc57f6"
      },
      "execution_count": null,
      "outputs": [
        {
          "output_type": "display_data",
          "data": {
            "text/plain": [
              "<Figure size 640x480 with 1 Axes>"
            ],
            "image/png": "[encoded data removed]"
          },
          "metadata": {}
        }
      ]
    },
    {
      "cell_type": "code",
      "source": [
        "sns.barplot(data=tfl, x=\"Month\", y=\"Average_ride_by_month_Others\")\n",
        "plt.title('Average Ride Duration by month Others')\n",
        "plt.xlabel('Month')\n",
        "plt.ylabel('Average Ride Duration');"
      ],
      "metadata": {
        "id": "SjWQcII4DkmU",
        "colab": {
          "base_uri": "https://localhost:8080/",
          "height": 472
        },
        "outputId": "5d2f355d-5421-447f-9a26-bcaa432632d9"
      },
      "execution_count": null,
      "outputs": [
        {
          "output_type": "display_data",
          "data": {
            "text/plain": [
              "<Figure size 640x480 with 1 Axes>"
            ],
            "image/png": "[encoded data removed]"
          },
          "metadata": {}
        }
      ]
    },
    {
      "cell_type": "code",
      "source": [
        "plt.figure(figsize=(12, 6))\n",
        "tfl_plot = tfl.melt(id_vars='Month', var_name='Duration', value_name='Duration of rides')\n",
        "sns.barplot(x='Month', y='Duration of rides', hue='Duration', data=tfl_plot, palette='viridis')\n",
        "plt.xlabel('Months')\n",
        "plt.ylabel('Average Rides')\n",
        "plt.title('Average Rides by Month for Others and Baylis station');"
      ],
      "metadata": {
        "id": "z4HoaEq8Dn1j",
        "colab": {
          "base_uri": "https://localhost:8080/",
          "height": 564
        },
        "outputId": "6ec62e32-46e5-4a7d-fce9-ac1df86dd97e"
      },
      "execution_count": null,
      "outputs": [
        {
          "output_type": "display_data",
          "data": {
            "text/plain": [
              "<Figure size 1200x600 with 1 Axes>"
            ],
            "image/png": "[encoded data removed]"
          },
          "metadata": {}
        }
      ]
    },
    {
      "cell_type": "code",
      "source": [
        "sns.histplot(data=tfl, x=\"Average_ride_by_month_Baylis\", bins=4, kde=True)\n",
        "plt.xlabel('Average Duration')\n",
        "plt.ylabel('Count')\n",
        "plt.title('Histogram showing average ride duration for Baylis');"
      ],
      "metadata": {
        "id": "C0r7RJuhjnNe",
        "colab": {
          "base_uri": "https://localhost:8080/",
          "height": 472
        },
        "outputId": "66c68df5-cd5c-4de6-bddd-fccacd805546"
      },
      "execution_count": null,
      "outputs": [
        {
          "output_type": "display_data",
          "data": {
            "text/plain": [
              "<Figure size 640x480 with 1 Axes>"
            ],
            "image/png": "[encoded data removed]"
          },
          "metadata": {}
        }
      ]
    },
    {
      "cell_type": "code",
      "source": [
        "sns.histplot(data=tfl, x=\"Average_ride_by_month_Others\", bins=4, kde=True)\n",
        "plt.xlabel('Average Duration')\n",
        "plt.ylabel('Count')\n",
        "plt.title('Histogram showing average ride duration for Others');"
      ],
      "metadata": {
        "id": "tQzqGnhAi-y-",
        "colab": {
          "base_uri": "https://localhost:8080/",
          "height": 472
        },
        "outputId": "415a36b5-b922-4d37-fe96-9e6f75a23494"
      },
      "execution_count": null,
      "outputs": [
        {
          "output_type": "display_data",
          "data": {
            "text/plain": [
              "<Figure size 640x480 with 1 Axes>"
            ],
            "image/png": "[encoded data removed]"
          },
          "metadata": {}
        }
      ]
    },
    {
      "cell_type": "code",
      "source": [
        "sns.boxplot(data=tfl, x=\"Average_ride_by_month_Baylis\")\n",
        "plt.title(\"Histogram for Average ride by month Baylis\");"
      ],
      "metadata": {
        "id": "81nUkG9hjwBV",
        "colab": {
          "base_uri": "https://localhost:8080/",
          "height": 472
        },
        "outputId": "8fcab2cd-adb6-474e-cf1f-226bb150699c"
      },
      "execution_count": null,
      "outputs": [
        {
          "output_type": "display_data",
          "data": {
            "text/plain": [
              "<Figure size 640x480 with 1 Axes>"
            ],
            "image/png": "[encoded data removed]"
          },
          "metadata": {}
        }
      ]
    },
    {
      "cell_type": "code",
      "source": [
        "sns.boxplot(data=tfl, x=\"Average_ride_by_month_Others\")\n",
        "plt.title(\"Histogram for Average ride by month Others\");"
      ],
      "metadata": {
        "id": "4618o6mtkE54",
        "colab": {
          "base_uri": "https://localhost:8080/",
          "height": 472
        },
        "outputId": "15e2af6b-052b-409d-956d-909a8f1e1b11"
      },
      "execution_count": null,
      "outputs": [
        {
          "output_type": "display_data",
          "data": {
            "text/plain": [
              "<Figure size 640x480 with 1 Axes>"
            ],
            "image/png": "[encoded data removed]"
          },
          "metadata": {}
        }
      ]
    },
    {
      "cell_type": "code",
      "source": [
        "tfl.head()"
      ],
      "metadata": {
        "id": "aUTJR33cGKSo",
        "colab": {
          "base_uri": "https://localhost:8080/",
          "height": 206
        },
        "outputId": "c7eecd42-e94a-4dda-b925-9b885d7c2704"
      },
      "execution_count": null,
      "outputs": [
        {
          "output_type": "execute_result",
          "data": {
            "text/plain": [
              "  Month  Average_ride_by_month_Baylis  Average_ride_by_month_Others\n",
              "0    01                    960.287081                   1247.915757\n",
              "1    02                   1064.628099                   1294.529472\n",
              "2    03                    894.668721                   1441.867241\n",
              "3    04                    881.600771                   1531.881067\n",
              "4    05                   1050.938673                   1579.303887"
            ],
            "text/html": [
              "\n",
              "  <div id=\"df-72774b8d-2dfe-4845-80a1-4583e74eb495\" class=\"colab-df-container\">\n",
              "    <div>\n",
              "<style scoped>\n",
              "    .dataframe tbody tr th:only-of-type {\n",
              "        vertical-align: middle;\n",
              "    }\n",
              "\n",
              "    .dataframe tbody tr th {\n",
              "        vertical-align: top;\n",
              "    }\n",
              "\n",
              "    .dataframe thead th {\n",
              "        text-align: right;\n",
              "    }\n",
              "</style>\n",
              "<table border=\"1\" class=\"dataframe\">\n",
              "  <thead>\n",
              "    <tr style=\"text-align: right;\">\n",
              "      <th></th>\n",
              "      <th>Month</th>\n",
              "      <th>Average_ride_by_month_Baylis</th>\n",
              "      <th>Average_ride_by_month_Others</th>\n",
              "    </tr>\n",
              "  </thead>\n",
              "  <tbody>\n",
              "    <tr>\n",
              "      <th>0</th>\n",
              "      <td>01</td>\n",
              "      <td>960.287081</td>\n",
              "      <td>1247.915757</td>\n",
              "    </tr>\n",
              "    <tr>\n",
              "      <th>1</th>\n",
              "      <td>02</td>\n",
              "      <td>1064.628099</td>\n",
              "      <td>1294.529472</td>\n",
              "    </tr>\n",
              "    <tr>\n",
              "      <th>2</th>\n",
              "      <td>03</td>\n",
              "      <td>894.668721</td>\n",
              "      <td>1441.867241</td>\n",
              "    </tr>\n",
              "    <tr>\n",
              "      <th>3</th>\n",
              "      <td>04</td>\n",
              "      <td>881.600771</td>\n",
              "      <td>1531.881067</td>\n",
              "    </tr>\n",
              "    <tr>\n",
              "      <th>4</th>\n",
              "      <td>05</td>\n",
              "      <td>1050.938673</td>\n",
              "      <td>1579.303887</td>\n",
              "    </tr>\n",
              "  </tbody>\n",
              "</table>\n",
              "</div>\n",
              "    <div class=\"colab-df-buttons\">\n",
              "\n",
              "  <div class=\"colab-df-container\">\n",
              "    <button class=\"colab-df-convert\" onclick=\"convertToInteractive('df-72774b8d-2dfe-4845-80a1-4583e74eb495')\"\n",
              "            title=\"Convert this dataframe to an interactive table.\"\n",
              "            style=\"display:none;\">\n",
              "\n",
              "  <svg xmlns=\"http://www.w3.org/2000/svg\" height=\"24px\" viewBox=\"0 -960 960 960\">\n",
              "    <path d=\"M120-120v-720h720v720H120Zm60-500h600v-160H180v160Zm220 220h160v-160H400v160Zm0 220h160v-160H400v160ZM180-400h160v-160H180v160Zm440 0h160v-160H620v160ZM180-180h160v-160H180v160Zm440 0h160v-160H620v160Z\"/>\n",
              "  </svg>\n",
              "    </button>\n",
              "\n",
              "  <style>\n",
              "    .colab-df-container {\n",
              "      display:flex;\n",
              "      gap: 12px;\n",
              "    }\n",
              "\n",
              "    .colab-df-convert {\n",
              "      background-color: #E8F0FE;\n",
              "      border: none;\n",
              "      border-radius: 50%;\n",
              "      cursor: pointer;\n",
              "      display: none;\n",
              "      fill: #1967D2;\n",
              "      height: 32px;\n",
              "      padding: 0 0 0 0;\n",
              "      width: 32px;\n",
              "    }\n",
              "\n",
              "    .colab-df-convert:hover {\n",
              "      background-color: #E2EBFA;\n",
              "      box-shadow: 0px 1px 2px rgba(60, 64, 67, 0.3), 0px 1px 3px 1px rgba(60, 64, 67, 0.15);\n",
              "      fill: #174EA6;\n",
              "    }\n",
              "\n",
              "    .colab-df-buttons div {\n",
              "      margin-bottom: 4px;\n",
              "    }\n",
              "\n",
              "    [theme=dark] .colab-df-convert {\n",
              "      background-color: #3B4455;\n",
              "      fill: #D2E3FC;\n",
              "    }\n",
              "\n",
              "    [theme=dark] .colab-df-convert:hover {\n",
              "      background-color: #434B5C;\n",
              "      box-shadow: 0px 1px 3px 1px rgba(0, 0, 0, 0.15);\n",
              "      filter: drop-shadow(0px 1px 2px rgba(0, 0, 0, 0.3));\n",
              "      fill: #FFFFFF;\n",
              "    }\n",
              "  </style>\n",
              "\n",
              "    <script>\n",
              "      const buttonEl =\n",
              "        document.querySelector('#df-72774b8d-2dfe-4845-80a1-4583e74eb495 button.colab-df-convert');\n",
              "      buttonEl.style.display =\n",
              "        google.colab.kernel.accessAllowed ? 'block' : 'none';\n",
              "\n",
              "      async function convertToInteractive(key) {\n",
              "        const element = document.querySelector('#df-72774b8d-2dfe-4845-80a1-4583e74eb495');\n",
              "        const dataTable =\n",
              "          await google.colab.kernel.invokeFunction('convertToInteractive',\n",
              "                                                    [key], {});\n",
              "        if (!dataTable) return;\n",
              "\n",
              "        const docLinkHtml = 'Like what you see? Visit the ' +\n",
              "          '<a target=\"_blank\" href=https://colab.research.google.com/notebooks/data_table.ipynb>data table notebook</a>'\n",
              "          + ' to learn more about interactive tables.';\n",
              "        element.innerHTML = '';\n",
              "        dataTable['output_type'] = 'display_data';\n",
              "        await google.colab.output.renderOutput(dataTable, element);\n",
              "        const docLink = document.createElement('div');\n",
              "        docLink.innerHTML = docLinkHtml;\n",
              "        element.appendChild(docLink);\n",
              "      }\n",
              "    </script>\n",
              "  </div>\n",
              "\n",
              "\n",
              "<div id=\"df-78e649cd-1cde-4bd7-b7d4-77a2d7620a43\">\n",
              "  <button class=\"colab-df-quickchart\" onclick=\"quickchart('df-78e649cd-1cde-4bd7-b7d4-77a2d7620a43')\"\n",
              "            title=\"Suggest charts\"\n",
              "            style=\"display:none;\">\n",
              "\n",
              "<svg xmlns=\"http://www.w3.org/2000/svg\" height=\"24px\"viewBox=\"0 0 24 24\"\n",
              "     width=\"24px\">\n",
              "    <g>\n",
              "        <path d=\"M19 3H5c-1.1 0-2 .9-2 2v14c0 1.1.9 2 2 2h14c1.1 0 2-.9 2-2V5c0-1.1-.9-2-2-2zM9 17H7v-7h2v7zm4 0h-2V7h2v10zm4 0h-2v-4h2v4z\"/>\n",
              "    </g>\n",
              "</svg>\n",
              "  </button>\n",
              "\n",
              "<style>\n",
              "  .colab-df-quickchart {\n",
              "      --bg-color: #E8F0FE;\n",
              "      --fill-color: #1967D2;\n",
              "      --hover-bg-color: #E2EBFA;\n",
              "      --hover-fill-color: #174EA6;\n",
              "      --disabled-fill-color: #AAA;\n",
              "      --disabled-bg-color: #DDD;\n",
              "  }\n",
              "\n",
              "  [theme=dark] .colab-df-quickchart {\n",
              "      --bg-color: #3B4455;\n",
              "      --fill-color: #D2E3FC;\n",
              "      --hover-bg-color: #434B5C;\n",
              "      --hover-fill-color: #FFFFFF;\n",
              "      --disabled-bg-color: #3B4455;\n",
              "      --disabled-fill-color: #666;\n",
              "  }\n",
              "\n",
              "  .colab-df-quickchart {\n",
              "    background-color: var(--bg-color);\n",
              "    border: none;\n",
              "    border-radius: 50%;\n",
              "    cursor: pointer;\n",
              "    display: none;\n",
              "    fill: var(--fill-color);\n",
              "    height: 32px;\n",
              "    padding: 0;\n",
              "    width: 32px;\n",
              "  }\n",
              "\n",
              "  .colab-df-quickchart:hover {\n",
              "    background-color: var(--hover-bg-color);\n",
              "    box-shadow: 0 1px 2px rgba(60, 64, 67, 0.3), 0 1px 3px 1px rgba(60, 64, 67, 0.15);\n",
              "    fill: var(--button-hover-fill-color);\n",
              "  }\n",
              "\n",
              "  .colab-df-quickchart-complete:disabled,\n",
              "  .colab-df-quickchart-complete:disabled:hover {\n",
              "    background-color: var(--disabled-bg-color);\n",
              "    fill: var(--disabled-fill-color);\n",
              "    box-shadow: none;\n",
              "  }\n",
              "\n",
              "  .colab-df-spinner {\n",
              "    border: 2px solid var(--fill-color);\n",
              "    border-color: transparent;\n",
              "    border-bottom-color: var(--fill-color);\n",
              "    animation:\n",
              "      spin 1s steps(1) infinite;\n",
              "  }\n",
              "\n",
              "  @keyframes spin {\n",
              "    0% {\n",
              "      border-color: transparent;\n",
              "      border-bottom-color: var(--fill-color);\n",
              "      border-left-color: var(--fill-color);\n",
              "    }\n",
              "    20% {\n",
              "      border-color: transparent;\n",
              "      border-left-color: var(--fill-color);\n",
              "      border-top-color: var(--fill-color);\n",
              "    }\n",
              "    30% {\n",
              "      border-color: transparent;\n",
              "      border-left-color: var(--fill-color);\n",
              "      border-top-color: var(--fill-color);\n",
              "      border-right-color: var(--fill-color);\n",
              "    }\n",
              "    40% {\n",
              "      border-color: transparent;\n",
              "      border-right-color: var(--fill-color);\n",
              "      border-top-color: var(--fill-color);\n",
              "    }\n",
              "    60% {\n",
              "      border-color: transparent;\n",
              "      border-right-color: var(--fill-color);\n",
              "    }\n",
              "    80% {\n",
              "      border-color: transparent;\n",
              "      border-right-color: var(--fill-color);\n",
              "      border-bottom-color: var(--fill-color);\n",
              "    }\n",
              "    90% {\n",
              "      border-color: transparent;\n",
              "      border-bottom-color: var(--fill-color);\n",
              "    }\n",
              "  }\n",
              "</style>\n",
              "\n",
              "  <script>\n",
              "    async function quickchart(key) {\n",
              "      const quickchartButtonEl =\n",
              "        document.querySelector('#' + key + ' button');\n",
              "      quickchartButtonEl.disabled = true;  // To prevent multiple clicks.\n",
              "      quickchartButtonEl.classList.add('colab-df-spinner');\n",
              "      try {\n",
              "        const charts = await google.colab.kernel.invokeFunction(\n",
              "            'suggestCharts', [key], {});\n",
              "      } catch (error) {\n",
              "        console.error('Error during call to suggestCharts:', error);\n",
              "      }\n",
              "      quickchartButtonEl.classList.remove('colab-df-spinner');\n",
              "      quickchartButtonEl.classList.add('colab-df-quickchart-complete');\n",
              "    }\n",
              "    (() => {\n",
              "      let quickchartButtonEl =\n",
              "        document.querySelector('#df-78e649cd-1cde-4bd7-b7d4-77a2d7620a43 button');\n",
              "      quickchartButtonEl.style.display =\n",
              "        google.colab.kernel.accessAllowed ? 'block' : 'none';\n",
              "    })();\n",
              "  </script>\n",
              "</div>\n",
              "    </div>\n",
              "  </div>\n"
            ],
            "application/vnd.google.colaboratory.intrinsic+json": {
              "type": "dataframe",
              "variable_name": "tfl",
              "summary": "{\n  \"name\": \"tfl\",\n  \"rows\": 12,\n  \"fields\": [\n    {\n      \"column\": \"Month\",\n      \"properties\": {\n        \"dtype\": \"string\",\n        \"num_unique_values\": 12,\n        \"samples\": [\n          \"11\",\n          \"10\",\n          \"01\"\n        ],\n        \"semantic_type\": \"\",\n        \"description\": \"\"\n      }\n    },\n    {\n      \"column\": \"Average_ride_by_month_Baylis\",\n      \"properties\": {\n        \"dtype\": \"number\",\n        \"std\": 141.7424159091044,\n        \"min\": 851.7014122394082,\n        \"max\": 1286.0921445144184,\n        \"num_unique_values\": 12,\n        \"samples\": [\n          1048.9418777943367,\n          879.4212765957446,\n          960.2870813397129\n        ],\n        \"semantic_type\": \"\",\n        \"description\": \"\"\n      }\n    },\n    {\n      \"column\": \"Average_ride_by_month_Others\",\n      \"properties\": {\n        \"dtype\": \"number\",\n        \"std\": 135.02392041359704,\n        \"min\": 1247.9157566495696,\n        \"max\": 1653.3606386887209,\n        \"num_unique_values\": 12,\n        \"samples\": [\n          1275.4024138845407,\n          1356.1646696133168,\n          1247.9157566495696\n        ],\n        \"semantic_type\": \"\",\n        \"description\": \"\"\n      }\n    }\n  ]\n}"
            }
          },
          "metadata": {},
          "execution_count": 58
        }
      ]
    },
    {
      "cell_type": "markdown",
      "source": [
        "#HYPOTHESIS TESTING"
      ],
      "metadata": {
        "id": "nBHXJNnmw0cF"
      }
    },
    {
      "cell_type": "markdown",
      "source": [
        "Null Hypothesis H(0): Rides originating from Baylis Road, Waterloo station in 2014 were longer than those from other stations.\n",
        "\n",
        "\n",
        "Alternate Hypothesis H(1): Rides originating from Baylis Road, Waterloo station in 2014 were shorter than those from other stations."
      ],
      "metadata": {
        "id": "yFSkVfnQaGMD"
      }
    },
    {
      "cell_type": "markdown",
      "source": [
        "The hypothesis test will be done in 2 ways\n",
        "1. Manually calculating the mean, variances and the number of samples of the two groups Baylis and Others and using the independent t test formular and the effect size to determine the validity of our research question\n",
        "2. Using scipy to do the same analysis"
      ],
      "metadata": {
        "id": "6WYPHoNTw97F"
      }
    },
    {
      "cell_type": "markdown",
      "source": [
        "##Major conditions to be met before conducting and independent sample t test\n",
        "\n",
        "*   Homogeneity of Variances\n",
        "*   Normality of data\n",
        "\n",
        "\n"
      ],
      "metadata": {
        "id": "D_6cklZLQC6S"
      }
    },
    {
      "cell_type": "markdown",
      "source": [
        "##Levene's test for homogeneity of group Variance (Baylis and Others)"
      ],
      "metadata": {
        "id": "977_VlYiLnTQ"
      }
    },
    {
      "cell_type": "markdown",
      "source": [
        "Since the Independent t test requires homogeneity of variance for the groups, Levene's test will be conducted to check this\n",
        "\n",
        "Levene's test:\n",
        "Null hypothesis: The variances of the groups are equal\n",
        "Alternate hypothesis: The variances of the groups are not equal\n",
        "Significance level alpha = 5% or 0.05"
      ],
      "metadata": {
        "id": "QGB_osb8KZFw"
      }
    },
    {
      "cell_type": "code",
      "source": [
        "from scipy.stats import levene"
      ],
      "metadata": {
        "id": "5H-Gilo_LlKp"
      },
      "execution_count": null,
      "outputs": []
    },
    {
      "cell_type": "code",
      "source": [
        "observations_baylis = [row[0] for row in hypothesis_testing_df.select('Average_ride_by_month_Baylis').collect()]\n",
        "observations_others = [row[0] for row in hypothesis_testing_df.select('Average_ride_by_month_Others').collect()]"
      ],
      "metadata": {
        "id": "BAWXmZqMMRHv"
      },
      "execution_count": null,
      "outputs": []
    },
    {
      "cell_type": "code",
      "source": [
        "print(observations_baylis)\n",
        "print(observations_others)"
      ],
      "metadata": {
        "id": "rqWNrcv1NVAB",
        "colab": {
          "base_uri": "https://localhost:8080/"
        },
        "outputId": "fbb03bc5-c1a9-493b-9bcf-0ad00b55a759"
      },
      "execution_count": null,
      "outputs": [
        {
          "output_type": "stream",
          "name": "stdout",
          "text": [
            "[960.2870813397129, 1064.6280991735537, 894.668721109399, 881.6007714561234, 1050.938673341677, 1110.615901455767, 1286.0921445144184, 1029.8165481093224, 1247.9394812680116, 879.4212765957446, 1048.9418777943367, 851.7014122394082]\n",
            "[1247.9157566495696, 1294.5294721724779, 1441.8672406565413, 1531.8810665818007, 1579.3038874589104, 1569.8077658723566, 1570.6447931673715, 1653.3606386887209, 1414.1419520740462, 1356.1646696133168, 1275.4024138845407, 1412.0464056175222]\n"
          ]
        }
      ]
    },
    {
      "cell_type": "code",
      "source": [
        "levene_statistic, levene_p_value = levene(observations_baylis, observations_others)\n",
        "print(\"Levene's test statistic:\", levene_statistic)\n",
        "print(\"levene_p-value:\", levene_p_value)"
      ],
      "metadata": {
        "id": "Mw01ShjlNpbg",
        "colab": {
          "base_uri": "https://localhost:8080/"
        },
        "outputId": "73cc179e-90e8-4ea8-e95c-fd9bc98d2d10"
      },
      "execution_count": null,
      "outputs": [
        {
          "output_type": "stream",
          "name": "stdout",
          "text": [
            "Levene's test statistic: 0.008441687309400883\n",
            "levene_p-value: 0.9276259513220582\n"
          ]
        }
      ]
    },
    {
      "cell_type": "code",
      "source": [
        "alpha = 0.05\n",
        "if levene_p_value <= alpha:\n",
        "    print(\"Reject the null hypothesis: Variances are not equal.\")\n",
        "else:\n",
        "    print(\"Fail to reject the null hypothesis: Variances are equal.\")"
      ],
      "metadata": {
        "id": "ttqTyHUVN9M5",
        "colab": {
          "base_uri": "https://localhost:8080/"
        },
        "outputId": "6ad1c6e4-6988-4d5e-ac75-abe1550d1c42"
      },
      "execution_count": null,
      "outputs": [
        {
          "output_type": "stream",
          "name": "stdout",
          "text": [
            "Fail to reject the null hypothesis: Variances are equal.\n"
          ]
        }
      ]
    },
    {
      "cell_type": "markdown",
      "source": [
        "Since the p-value (0.9276) is greater than the significance level (0.05), we will fail to reject the null hypothesis.Therefore, there is not enough evidence to suggest that the variances of the two groups (Baylis and Others) are different."
      ],
      "metadata": {
        "id": "_NqvIuHaPGO1"
      }
    },
    {
      "cell_type": "markdown",
      "source": [
        "##Shapiro Wilk test for normality of data points in Baylis and Others group"
      ],
      "metadata": {
        "id": "ni6-WQPPPwlp"
      }
    },
    {
      "cell_type": "code",
      "source": [
        "from scipy.stats import shapiro"
      ],
      "metadata": {
        "id": "huN8kjL6PcH2"
      },
      "execution_count": null,
      "outputs": []
    },
    {
      "cell_type": "code",
      "source": [
        "#Since we already have a list of observations from the groups, It will be plugged in\n",
        "shapiro_statistic_baylis, shapiro_p_value_baylis = shapiro(observations_baylis)\n",
        "shapiro_statistic_others, shapiro_p_value_others = shapiro(observations_others)"
      ],
      "metadata": {
        "id": "o88XGPKZRYWb"
      },
      "execution_count": null,
      "outputs": []
    },
    {
      "cell_type": "code",
      "source": [
        "print(\"Shapiro-Wilk Test for Baylis:\")\n",
        "print(\"Test Statistic:\", shapiro_statistic_baylis)\n",
        "print(\"p-value:\", shapiro_p_value_baylis)\n",
        "print(\"Is the data normally distributed (p > 0.05)?:\", shapiro_p_value_baylis > 0.05)\n",
        "print(\"Shapiro-Wilk Test for Others:\")\n",
        "print(\"Test Statistic:\", shapiro_statistic_others)\n",
        "print(\"p-value:\", shapiro_p_value_others)\n",
        "print(\"Is the data normally distributed (p > 0.05)?:\", shapiro_p_value_others > 0.05)"
      ],
      "metadata": {
        "id": "lcybSVLOSKae",
        "colab": {
          "base_uri": "https://localhost:8080/"
        },
        "outputId": "7877ffcc-f864-43f8-a2cc-26330b3f3218"
      },
      "execution_count": null,
      "outputs": [
        {
          "output_type": "stream",
          "name": "stdout",
          "text": [
            "Shapiro-Wilk Test for Baylis:\n",
            "Test Statistic: 0.9164214730262756\n",
            "p-value: 0.2576427757740021\n",
            "Is the data normally distributed (p > 0.05)?: True\n",
            "Shapiro-Wilk Test for Others:\n",
            "Test Statistic: 0.9376623630523682\n",
            "p-value: 0.46839526295661926\n",
            "Is the data normally distributed (p > 0.05)?: True\n"
          ]
        }
      ]
    },
    {
      "cell_type": "markdown",
      "source": [
        "Since the p-values for Baylis and Others is greater than the significance level (0.05), we fail to reject the null hypothesis.Therefore, there is not enough evidence to conclude that the data significantly deviates from a normal distribution. Since Shapiro Wilk’s test is sensitive to sample sizes, histograms were plotted as well to verify the normality of the groups."
      ],
      "metadata": {
        "id": "gugQJzP2EiTM"
      }
    },
    {
      "cell_type": "markdown",
      "source": [
        "##Independent Sample T test using scipy"
      ],
      "metadata": {
        "id": "SFNAK6lcTC_s"
      }
    },
    {
      "cell_type": "markdown",
      "source": [
        "Since there is homogeneity of variance and normality in our groups (Baylis and Others) We can conduct an independent samples t- test on the data."
      ],
      "metadata": {
        "id": "ezqyZTYwTIYi"
      }
    },
    {
      "cell_type": "code",
      "source": [
        "from scipy.stats import ttest_ind"
      ],
      "metadata": {
        "id": "Xjvvxlo4VENU"
      },
      "execution_count": null,
      "outputs": []
    },
    {
      "cell_type": "code",
      "source": [
        "t_statistic, p_value = ttest_ind(observations_baylis, observations_others, equal_var=True, alternative=\"less\")\n",
        "print(\"Independent Samples t-test:\")\n",
        "print(\"t-statistic:\", t_statistic)\n",
        "print(\"p-value:\", p_value)"
      ],
      "metadata": {
        "id": "ZVazIztRVF0f",
        "colab": {
          "base_uri": "https://localhost:8080/"
        },
        "outputId": "522ac5fb-671c-4274-d754-eeeb8f564e94"
      },
      "execution_count": null,
      "outputs": [
        {
          "output_type": "stream",
          "name": "stdout",
          "text": [
            "Independent Samples t-test:\n",
            "t-statistic: -7.4327479175820175\n",
            "p-value: 9.786575276234225e-08\n"
          ]
        }
      ]
    },
    {
      "cell_type": "code",
      "source": [
        "alpha = 0.05\n",
        "if p_value < alpha:\n",
        "    print(\"Reject the null hypothesis: There is a significant difference between the means of the two groups (Baylis and Others).\")\n",
        "else:\n",
        "    print(\"Fail to reject the null hypothesis: There is no significant difference between the means of the two groups (Baylis and Others).\")"
      ],
      "metadata": {
        "id": "lEnrQyJPXOA7",
        "colab": {
          "base_uri": "https://localhost:8080/"
        },
        "outputId": "1dcbe40f-b58c-4677-fc0a-d74657a83394"
      },
      "execution_count": null,
      "outputs": [
        {
          "output_type": "stream",
          "name": "stdout",
          "text": [
            "Reject the null hypothesis: There is a significant difference between the means of the two groups (Baylis and Others).\n"
          ]
        }
      ]
    },
    {
      "cell_type": "markdown",
      "source": [
        "##Independent T test (Manual with scipy)"
      ],
      "metadata": {
        "id": "9ZHbFvnNX9aj"
      }
    },
    {
      "cell_type": "markdown",
      "source": [
        "Steps:\n",
        "1. Get the sample size for Baylis and Others\n",
        "2. Calculate the means for Baylis and Others\n",
        "3. Calculate the standard deviation of Baylis and Others"
      ],
      "metadata": {
        "id": "zab8HHe4VyO5"
      }
    },
    {
      "cell_type": "code",
      "source": [
        "mean_duration_baylis = hypothesis_testing_df.select(mean(hypothesis_testing_df['Average_ride_by_month_Baylis'])).collect()[0][0]\n",
        "mean_duration_baylis"
      ],
      "metadata": {
        "id": "pdfCqInpHQZY",
        "colab": {
          "base_uri": "https://localhost:8080/"
        },
        "outputId": "6391c855-3e87-4259-f79b-543936f3f306"
      },
      "execution_count": null,
      "outputs": [
        {
          "output_type": "execute_result",
          "data": {
            "text/plain": [
              "1025.5543323664563"
            ]
          },
          "metadata": {},
          "execution_count": 70
        }
      ]
    },
    {
      "cell_type": "code",
      "source": [
        "mean_duration_others = hypothesis_testing_df.select(mean(hypothesis_testing_df['Average_ride_by_month_Others'])).collect()[0][0]\n",
        "mean_duration_others"
      ],
      "metadata": {
        "id": "JmUUXivPHrXU",
        "colab": {
          "base_uri": "https://localhost:8080/"
        },
        "outputId": "48098764-db27-45b8-b5ca-f05b89a28683"
      },
      "execution_count": null,
      "outputs": [
        {
          "output_type": "execute_result",
          "data": {
            "text/plain": [
              "1445.5888385364312"
            ]
          },
          "metadata": {},
          "execution_count": 71
        }
      ]
    },
    {
      "cell_type": "code",
      "source": [
        "std_duration_baylis = hypothesis_testing_df.select(stddev(hypothesis_testing_df['Average_ride_by_month_Baylis'])).collect()[0][0]\n",
        "std_duration_baylis"
      ],
      "metadata": {
        "id": "o0prDCS0LUgQ",
        "colab": {
          "base_uri": "https://localhost:8080/"
        },
        "outputId": "efadea4a-0f32-4a2b-8c1b-19a8d2160975"
      },
      "execution_count": null,
      "outputs": [
        {
          "output_type": "execute_result",
          "data": {
            "text/plain": [
              "141.74241590910438"
            ]
          },
          "metadata": {},
          "execution_count": 72
        }
      ]
    },
    {
      "cell_type": "code",
      "source": [
        "std_duration_others = hypothesis_testing_df.select(stddev(hypothesis_testing_df['Average_ride_by_month_Others'])).collect()[0][0]\n",
        "std_duration_others"
      ],
      "metadata": {
        "id": "PFNvIV3RLeo0",
        "colab": {
          "base_uri": "https://localhost:8080/"
        },
        "outputId": "dca82c00-4e6d-4bae-f1a2-dde3cb1512dd"
      },
      "execution_count": null,
      "outputs": [
        {
          "output_type": "execute_result",
          "data": {
            "text/plain": [
              "135.0239204135971"
            ]
          },
          "metadata": {},
          "execution_count": 73
        }
      ]
    },
    {
      "cell_type": "code",
      "source": [
        "sample_number_baylis = hypothesis_testing_df.select('Average_ride_by_month_Baylis').count()\n",
        "sample_number_others = hypothesis_testing_df.select('Average_ride_by_month_Others').count()"
      ],
      "metadata": {
        "id": "gDed_svdL8UR"
      },
      "execution_count": null,
      "outputs": []
    },
    {
      "cell_type": "code",
      "source": [
        "print(f\"Sample number of Baylis: {sample_number_baylis}\")\n",
        "print(f\"Sample number of Others: {sample_number_others}\")"
      ],
      "metadata": {
        "id": "9YYqzYryNNJ4",
        "colab": {
          "base_uri": "https://localhost:8080/"
        },
        "outputId": "327ea14d-3756-4e44-e12a-3c4708e5b532"
      },
      "execution_count": null,
      "outputs": [
        {
          "output_type": "stream",
          "name": "stdout",
          "text": [
            "Sample number of Baylis: 12\n",
            "Sample number of Others: 12\n"
          ]
        }
      ]
    },
    {
      "cell_type": "code",
      "source": [
        "t = (mean_duration_baylis - mean_duration_others)/np.sqrt(std_duration_baylis**2/sample_number_baylis + std_duration_others**2/sample_number_others)\n",
        "t"
      ],
      "metadata": {
        "id": "O2qBiVeMyEN3",
        "colab": {
          "base_uri": "https://localhost:8080/"
        },
        "outputId": "2e891aed-b54f-428d-8562-485d9db378c6"
      },
      "execution_count": null,
      "outputs": [
        {
          "output_type": "execute_result",
          "data": {
            "text/plain": [
              "-7.432747917582016"
            ]
          },
          "metadata": {},
          "execution_count": 76
        }
      ]
    },
    {
      "cell_type": "code",
      "source": [
        "degrees_of_freedom = sample_number_baylis + sample_number_others - 2\n",
        "degrees_of_freedom"
      ],
      "metadata": {
        "id": "NSY-hZVIZ6IF",
        "colab": {
          "base_uri": "https://localhost:8080/"
        },
        "outputId": "83a39e10-3b80-4cb2-d4d0-f81d9444a445"
      },
      "execution_count": null,
      "outputs": [
        {
          "output_type": "execute_result",
          "data": {
            "text/plain": [
              "22"
            ]
          },
          "metadata": {},
          "execution_count": 77
        }
      ]
    },
    {
      "cell_type": "code",
      "source": [
        "manual_alpha = 0.05\n",
        "manual_alpha"
      ],
      "metadata": {
        "id": "gizuKuO0aR2J",
        "colab": {
          "base_uri": "https://localhost:8080/"
        },
        "outputId": "b4475d9e-243c-4a10-e349-fe79885df726"
      },
      "execution_count": null,
      "outputs": [
        {
          "output_type": "execute_result",
          "data": {
            "text/plain": [
              "0.05"
            ]
          },
          "metadata": {},
          "execution_count": 78
        }
      ]
    },
    {
      "cell_type": "code",
      "source": [
        "#From the t-distribution table using alpha of 0.05 and degrees_of_freedom of 22\n",
        "critical_value = 1.717\n",
        "critical_value"
      ],
      "metadata": {
        "id": "Mn1uHD6sacjh",
        "colab": {
          "base_uri": "https://localhost:8080/"
        },
        "outputId": "1f9a0d69-2344-45b8-a831-9ce186736e59"
      },
      "execution_count": null,
      "outputs": [
        {
          "output_type": "execute_result",
          "data": {
            "text/plain": [
              "1.717"
            ]
          },
          "metadata": {},
          "execution_count": 79
        }
      ]
    },
    {
      "cell_type": "code",
      "source": [
        "from scipy import stats\n",
        "manual_p_value = stats.t.cdf(t, degrees_of_freedom)\n",
        "print(\"manual_p-value:\", manual_p_value)"
      ],
      "metadata": {
        "id": "IqVa2aISbLgg",
        "colab": {
          "base_uri": "https://localhost:8080/"
        },
        "outputId": "8552c87c-0ef9-46a5-f553-3d8248346511"
      },
      "execution_count": null,
      "outputs": [
        {
          "output_type": "stream",
          "name": "stdout",
          "text": [
            "manual_p-value: 9.786575276234278e-08\n"
          ]
        }
      ]
    },
    {
      "cell_type": "code",
      "source": [
        "print(\"Independent Samples t-test Manual:\")\n",
        "print(\"t-statistic:\", t)\n",
        "print(\"manual_p-value:\", manual_p_value)"
      ],
      "metadata": {
        "id": "Gi_MruCpYbuc",
        "colab": {
          "base_uri": "https://localhost:8080/"
        },
        "outputId": "0a033e60-c14e-418d-8eb2-7e59a4503ce4"
      },
      "execution_count": null,
      "outputs": [
        {
          "output_type": "stream",
          "name": "stdout",
          "text": [
            "Independent Samples t-test Manual:\n",
            "t-statistic: -7.432747917582016\n",
            "manual_p-value: 9.786575276234278e-08\n"
          ]
        }
      ]
    },
    {
      "cell_type": "code",
      "source": [
        "manual_alpha = 0.05\n",
        "if manual_p_value < manual_alpha:\n",
        "    print(\"Reject the null hypothesis: There is a significant difference between the means of the two groups (Baylis and Others).\")\n",
        "else:\n",
        "    print(\"Fail to reject the null hypothesis: There is no significant difference between the means of the two groups (Baylis and Others).\")"
      ],
      "metadata": {
        "id": "zCWTTL8ofeX5",
        "colab": {
          "base_uri": "https://localhost:8080/"
        },
        "outputId": "7df41623-4000-491c-ec5b-ac972c7c1946"
      },
      "execution_count": null,
      "outputs": [
        {
          "output_type": "stream",
          "name": "stdout",
          "text": [
            "Reject the null hypothesis: There is a significant difference between the means of the two groups (Baylis and Others).\n"
          ]
        }
      ]
    },
    {
      "cell_type": "markdown",
      "source": [
        "This t statistic and the p_value follows exactly as the one calculated with the scipy library"
      ],
      "metadata": {
        "id": "VVN_UjPYYlg9"
      }
    },
    {
      "cell_type": "markdown",
      "source": [
        "#CONCLUSION OF HYPOTHESIS TEST"
      ],
      "metadata": {
        "id": "e2tdDcx4ZPTO"
      }
    },
    {
      "cell_type": "markdown",
      "source": [
        "Since there is a significant difference between the average duration of rides originating from Baylis Road, Waterloo station in 2014 compared to other stations, we reject the null hypothesis. This means that rides originating from Baylis Road, Waterloo station in 2014 were in actual sense significantly shorter than those from other stations at a significance level of 0.05."
      ],
      "metadata": {
        "id": "7DNo80WDfsfg"
      }
    }
  ]
}